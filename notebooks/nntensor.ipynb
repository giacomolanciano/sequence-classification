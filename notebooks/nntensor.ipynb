{
 "cells": [
  {
   "cell_type": "code",
   "execution_count": 2,
   "metadata": {
    "collapsed": true
   },
   "outputs": [],
   "source": [
    "import tensorflow as tf\n",
    "import numpy as np"
   ]
  },
  {
   "cell_type": "code",
   "execution_count": 16,
   "metadata": {
    "collapsed": true
   },
   "outputs": [],
   "source": [
    "training_epochs = 25"
   ]
  },
  {
   "cell_type": "code",
   "execution_count": 32,
   "metadata": {
    "collapsed": false
   },
   "outputs": [
    {
     "name": "stdout",
     "output_type": "stream",
     "text": [
      "[[223113 311311]\n",
      " [131129 112911]\n",
      " [132528 252811]\n",
      " [221128 112811]\n",
      " [132815 281511]\n",
      " [132529 252911]\n",
      " [222513 251311]\n",
      " [221913 191311]\n",
      " [221524 152411]\n",
      " [131524 152411]\n",
      " [131528 152811]\n",
      " [222222 222222]\n",
      " [131313 131313]\n",
      " [131113 111311]\n",
      " [222522 252225]\n",
      " [221931 193130]\n",
      " [221130 113030]\n",
      " [132513 251313]\n",
      " [132513 251325]\n",
      " [132815 281523]\n",
      " [131129 112914]]\n",
      "[[1 0]\n",
      " [0 1]\n",
      " [0 1]\n",
      " [1 0]\n",
      " [0 1]\n",
      " [0 1]\n",
      " [1 0]\n",
      " [1 0]\n",
      " [1 0]\n",
      " [0 1]\n",
      " [0 1]\n",
      " [1 0]\n",
      " [0 1]\n",
      " [0 1]\n",
      " [1 0]\n",
      " [1 0]\n",
      " [1 0]\n",
      " [0 1]\n",
      " [0 1]\n",
      " [0 1]\n",
      " [0 1]]\n"
     ]
    }
   ],
   "source": [
    "batch_size = 15\n",
    "\n",
    "display_step = 1\n",
    "\n",
    "n_class = 2\n",
    "\n",
    "X_train = np.array([[223113, 311311], [131129, 112911], \n",
    "                    [132528, 252811], [221128, 112811], \n",
    "                    [132815, 281511], [132529, 252911], \n",
    "                    [222513, 251311], [221913, 191311], \n",
    "                    [221524, 152411], [131524, 152411], \n",
    "                    [131528, 152811], [222222, 222222], \n",
    "                    [131313, 131313], [131113, 111311], \n",
    "                    [222522, 252225], [221931, 193130], \n",
    "                    [221130, 113030], [132513, 251313], \n",
    "                    [132513, 251325], [132815, 281523], \n",
    "                    [131129, 112914]]).astype('int32')\n",
    "y_train = np.array([[1,0],[0,1],\n",
    "                    [0,1],[1,0],\n",
    "                    [0,1],[0,1],\n",
    "                    [1,0],[1,0],\n",
    "                    [1,0],[0,1],\n",
    "                    [0,1],[1,0],\n",
    "                    [0,1],[0,1],\n",
    "                    [1,0],[1,0],\n",
    "                    [1,0],[0,1],\n",
    "                    [0,1],[0,1],\n",
    "                    [0,1]]).astype('int32')\n",
    "print(X_train)\n",
    "print(y_train)"
   ]
  },
  {
   "cell_type": "code",
   "execution_count": 6,
   "metadata": {
    "collapsed": false
   },
   "outputs": [
    {
     "name": "stdout",
     "output_type": "stream",
     "text": [
      "Tensor(\"Placeholder:0\", shape=(?, 2), dtype=float32)\n"
     ]
    }
   ],
   "source": [
    "x = tf.placeholder(\"float\", [None, 2])\n",
    "print(x)"
   ]
  },
  {
   "cell_type": "code",
   "execution_count": 7,
   "metadata": {
    "collapsed": false
   },
   "outputs": [
    {
     "name": "stdout",
     "output_type": "stream",
     "text": [
      "Tensor(\"Placeholder_1:0\", shape=(?, 2), dtype=float32)\n"
     ]
    }
   ],
   "source": [
    "y = tf.placeholder(\"float\", [None, 2])\n",
    "print(y)"
   ]
  },
  {
   "cell_type": "code",
   "execution_count": 8,
   "metadata": {
    "collapsed": false
   },
   "outputs": [
    {
     "name": "stdout",
     "output_type": "stream",
     "text": [
      "Tensor(\"Variable/read:0\", shape=(2, 2), dtype=float32)\n"
     ]
    }
   ],
   "source": [
    "W = tf.Variable(tf.zeros([2, 2]))\n",
    "print(W)"
   ]
  },
  {
   "cell_type": "code",
   "execution_count": null,
   "metadata": {
    "collapsed": true
   },
   "outputs": [],
   "source": [
    "b = tf.Variable(tf.zeros([2]))\n",
    "evidence = tf.matmul(x, W) + b\n",
    "evidence"
   ]
  },
  {
   "cell_type": "code",
   "execution_count": 10,
   "metadata": {
    "collapsed": false
   },
   "outputs": [
    {
     "name": "stdout",
     "output_type": "stream",
     "text": [
      "Tensor(\"Softmax:0\", shape=(?, 2), dtype=float32)\n"
     ]
    }
   ],
   "source": [
    "activation = tf.nn.softmax(tf.matmul(x, W) + b)\n",
    "print(activation)"
   ]
  },
  {
   "cell_type": "code",
   "execution_count": 58,
   "metadata": {
    "collapsed": false
   },
   "outputs": [
    {
     "name": "stdout",
     "output_type": "stream",
     "text": [
      "Tensor(\"add_5:0\", shape=(?, 2), dtype=float32)\n"
     ]
    }
   ],
   "source": [
    "cross_entropy = (y*tf.log(activation+1))\n",
    "print(cross_entropy)"
   ]
  },
  {
   "cell_type": "code",
   "execution_count": 59,
   "metadata": {
    "collapsed": false
   },
   "outputs": [
    {
     "name": "stdout",
     "output_type": "stream",
     "text": [
      "Tensor(\"Mean_20:0\", shape=(), dtype=float32)\n"
     ]
    }
   ],
   "source": [
    "cost = tf.reduce_mean(-tf.reduce_sum(cross_entropy, reduction_indices=1))\n",
    "print(cost)"
   ]
  },
  {
   "cell_type": "code",
   "execution_count": 60,
   "metadata": {
    "collapsed": false
   },
   "outputs": [
    {
     "name": "stdout",
     "output_type": "stream",
     "text": [
      "name: \"GradientDescent_3\"\n",
      "op: \"NoOp\"\n",
      "input: \"^GradientDescent_3/update_Variable/ApplyGradientDescent\"\n",
      "input: \"^GradientDescent_3/update_Variable_1/ApplyGradientDescent\"\n",
      "\n"
     ]
    }
   ],
   "source": [
    "optimizer = tf.train.GradientDescentOptimizer(learning_rate).minimize(cost)\n",
    "print(optimizer)"
   ]
  },
  {
   "cell_type": "code",
   "execution_count": 61,
   "metadata": {
    "collapsed": true
   },
   "outputs": [],
   "source": [
    "avg_set = []\n",
    "\n",
    "epoch_set=[]"
   ]
  },
  {
   "cell_type": "code",
   "execution_count": 62,
   "metadata": {
    "collapsed": false
   },
   "outputs": [
    {
     "name": "stdout",
     "output_type": "stream",
     "text": [
      "name: \"init_4\"\n",
      "op: \"NoOp\"\n",
      "input: \"^Variable/Assign\"\n",
      "input: \"^Variable_1/Assign\"\n",
      "\n"
     ]
    }
   ],
   "source": [
    "init = tf.global_variables_initializer()\n",
    "print(init)"
   ]
  },
  {
   "cell_type": "code",
   "execution_count": 66,
   "metadata": {
    "collapsed": false
   },
   "outputs": [
    {
     "name": "stdout",
     "output_type": "stream",
     "text": [
      "Epoch: 0001 cost= -2.454652023\n",
      "Epoch: 0002 cost= -2.454652023\n",
      "Epoch: 0003 cost= -2.454652023\n",
      "Epoch: 0004 cost= -2.454652023\n",
      "Epoch: 0005 cost= -2.454652023\n",
      "Epoch: 0006 cost= -2.454652023\n",
      "Epoch: 0007 cost= -2.454652023\n",
      "Epoch: 0008 cost= -2.454652023\n",
      "Epoch: 0009 cost= -2.454652023\n",
      "Epoch: 0010 cost= -2.454652023\n",
      "Epoch: 0011 cost= -2.454652023\n",
      "Epoch: 0012 cost= -2.454652023\n",
      "Epoch: 0013 cost= -2.454652023\n",
      "Epoch: 0014 cost= -2.454652023\n",
      "Epoch: 0015 cost= -2.454652023\n",
      "Epoch: 0016 cost= -2.454652023\n",
      "Epoch: 0017 cost= -2.454652023\n",
      "Epoch: 0018 cost= -2.454652023\n",
      "Epoch: 0019 cost= -2.454652023\n",
      "Epoch: 0020 cost= -2.454652023\n",
      "Epoch: 0021 cost= -2.454652023\n",
      "Epoch: 0022 cost= -2.454652023\n",
      "Epoch: 0023 cost= -2.454652023\n",
      "Epoch: 0024 cost= -2.454652023\n",
      "Epoch: 0025 cost= -2.454652023\n",
      " Training phase finished\n",
      "MODEL accuracy: 0.5\n"
     ]
    }
   ],
   "source": [
    "with tf.Session() as sess:\n",
    "    sess.run(init)\n",
    "    for epoch in range(training_epochs):\n",
    "        avg_cost = 0.\n",
    "        total_batch = int(len(X_train)/batch_size)+9\n",
    "        o = 0\n",
    "        for i in range(total_batch):\n",
    "            batch_xs = X_train[o : o+15] \n",
    "            batch_ys = y_train[o : o+15]\n",
    "            a = sess.run(optimizer, feed_dict={x: batch_xs, y: batch_ys})\n",
    "            b = sess.run(cost, feed_dict={x: batch_xs, y: batch_ys})\n",
    "            avg_cost += b/total_batch\n",
    "            o = o+1\n",
    "        if epoch % display_step == 0:\n",
    "            print(\"Epoch:\",'%04d' % (epoch+1),\"cost=\",\"{:.9f}\".format(avg_cost))\n",
    "\n",
    "    print(\" Training phase finished\")\n",
    "    correct_prediction = tf.equal(tf.argmax(activation, 1),tf.argmax(y, 1))\n",
    "    accuracy = tf.reduce_mean(tf.cast(correct_prediction, \"float\"))\n",
    "    X_test = [[131911, 191125],[132525, 252525],[222222, 222225],[221525, 152524]]\n",
    "    y_test = [[0,1],[0,1],[1,0],[1,0]]\n",
    "    print(\"MODEL accuracy:\", accuracy.eval({x: X_test,y: y_test}))"
   ]
  },
  {
   "cell_type": "code",
   "execution_count": 67,
   "metadata": {
    "collapsed": false
   },
   "outputs": [
    {
     "ename": "SyntaxError",
     "evalue": "invalid syntax (<ipython-input-67-e0305346e72a>, line 1)",
     "traceback": [
      "\u001b[0;36m  File \u001b[0;32m\"<ipython-input-67-e0305346e72a>\"\u001b[0;36m, line \u001b[0;32m1\u001b[0m\n\u001b[0;31m    https://www.packtpub.com/books/content/implementing-artificial-neural-networks-tensorflow\u001b[0m\n\u001b[0m         ^\u001b[0m\n\u001b[0;31mSyntaxError\u001b[0m\u001b[0;31m:\u001b[0m invalid syntax\n"
     ],
     "output_type": "error"
    }
   ],
   "source": [
    "https://www.packtpub.com/books/content/implementing-artificial-neural-networks-tensorflow"
   ]
  },
  {
   "cell_type": "code",
   "execution_count": null,
   "metadata": {
    "collapsed": true
   },
   "outputs": [],
   "source": [
    ""
   ]
  }
 ],
 "metadata": {
  "anaconda-cloud": {},
  "kernelspec": {
   "display_name": "Python [conda root]",
   "language": "python",
   "name": "conda-root-py"
  },
  "language_info": {
   "codemirror_mode": {
    "name": "ipython",
    "version": 3.0
   },
   "file_extension": ".py",
   "mimetype": "text/x-python",
   "name": "python",
   "nbconvert_exporter": "python",
   "pygments_lexer": "ipython3",
   "version": "3.5.2"
  }
 },
 "nbformat": 4,
 "nbformat_minor": 0
}